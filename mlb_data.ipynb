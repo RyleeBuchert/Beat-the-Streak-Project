{
 "cells": [
  {
   "cell_type": "markdown",
   "metadata": {},
   "source": [
    "# ML-5333 Project 2 - MLB Data Collection"
   ]
  },
  {
   "cell_type": "code",
   "execution_count": 2,
   "metadata": {},
   "outputs": [],
   "source": [
    "import pandas as pd\n",
    "import numpy as np\n",
    "import baseball_scraper\n",
    "import pybaseball\n",
    "import statsapi\n",
    "import mlbgame"
   ]
  },
  {
   "cell_type": "markdown",
   "metadata": {},
   "source": [
    "Get masterfile for statsapi team name, code, etc."
   ]
  },
  {
   "cell_type": "code",
   "execution_count": 3,
   "metadata": {},
   "outputs": [],
   "source": [
    "with open('data\\\\master\\\\team_names.txt', 'r') as file:\n",
    "    team_list = [x.replace('\\n','') for x in file.readlines()]\n",
    "team_df = []\n",
    "for team in team_list:\n",
    "    team_df.append(statsapi.lookup_team(team)[0])\n",
    "team_df = pd.DataFrame.from_dict(team_df)\n",
    "team_df.columns = ['statsapi_id','name','team_code','file_code','team_name','loc_name','short_name']\n",
    "team_df = team_df.sort_values(by=['statsapi_id'])\n",
    "team_df = team_df.reset_index(drop=True)\n",
    "# team_df.to_csv('data\\\\master\\\\statsapi_teams.csv', index=False)"
   ]
  },
  {
   "cell_type": "markdown",
   "metadata": {},
   "source": [
    "Function to get schedule dataframe for team in specified season"
   ]
  },
  {
   "cell_type": "code",
   "execution_count": 6,
   "metadata": {},
   "outputs": [],
   "source": [
    "def get_team_game_list(team_code, season):\n",
    "\n",
    "    date_dict = {\n",
    "        2016: {'start': '04/03/2016', 'end': '10/02/2016'},\n",
    "        2017: {'start': '04/02/2017', 'end': '10/01/2017'},\n",
    "        2018: {'start': '03/28/2018', 'end': '09/30/2018'},\n",
    "        2019: {'start': '03/27/2019', 'end': '09/29/2019'},\n",
    "        2020: {'start': '07/23/2020', 'end': '09/27/2020'},\n",
    "        2021: {'start': '04/01/2021', 'end': '10/03/2021'}\n",
    "    }\n",
    "\n",
    "    game_list = statsapi.schedule(start_date=date_dict[season]['start'],end_date=date_dict[season]['end'],team=team_code)\n",
    "\n",
    "    schedule_df_list = []\n",
    "    for game in game_list:\n",
    "        if game['status'] in ['Final', 'Completed Early: Rain']:\n",
    "            if team_code == game['home_id']:\n",
    "                team_status = 'Home'\n",
    "                opp_status = ('away_name', 'away_id')\n",
    "                if game['home_score'] > game['away_score']:\n",
    "                    game_result = 'W'\n",
    "                else:\n",
    "                    game_result = 'L'\n",
    "            else:\n",
    "                team_status = 'Away'\n",
    "                opp_status = ('home_name', 'home_id')\n",
    "                if game['away_score'] > game['home_score']:\n",
    "                    game_result = 'W'\n",
    "                else:\n",
    "                    game_result = 'L'\n",
    "            schedule_df_list.append([game['game_id'],team_status,game[opp_status[0]],game[opp_status[1]],game_result])\n",
    "    col_list = ['game_id','home/away','opp_name','opp_code','result']\n",
    "    return pd.DataFrame(schedule_df_list, columns=col_list)"
   ]
  },
  {
   "cell_type": "markdown",
   "metadata": {},
   "source": [
    "Get schedule dictionary for 2016-2021 seasons and save"
   ]
  },
  {
   "cell_type": "code",
   "execution_count": 7,
   "metadata": {},
   "outputs": [],
   "source": [
    "schedule_dict = {}\n",
    "season_list = [2016,2017,2018,2019,2020,2021]\n",
    "for season in season_list:\n",
    "    schedule_dict.update({season: {}})\n",
    "    for team in team_df['statsapi_id']:\n",
    "        schedule_dict[season].update({team: get_team_game_list(team, season)})\n",
    "for season in season_list:\n",
    "    for team in team_df['statsapi_id']:\n",
    "        schedule_dict[season][team].to_csv(f'data\\\\statsapi_season_data\\\\{season}\\\\{team}.csv', index=False)"
   ]
  },
  {
   "cell_type": "markdown",
   "metadata": {},
   "source": [
    "Method to convert IP string to number"
   ]
  },
  {
   "cell_type": "code",
   "execution_count": null,
   "metadata": {},
   "outputs": [],
   "source": [
    "def inning_converter(innings_pitched):\n",
    "    ip_string = str(innings_pitched)\n",
    "\n",
    "    if ip_string[len(ip_string)-2:len(ip_string)] == '.1':\n",
    "        ip = int(innings_pitched) + 0.333333\n",
    "    elif ip_string[len(ip_string)-2:len(ip_string)] == '.2':\n",
    "        ip = int(innings_pitched) + 0.666667\n",
    "    else:\n",
    "        ip = innings_pitched\n",
    "\n",
    "    return ip"
   ]
  },
  {
   "cell_type": "markdown",
   "metadata": {},
   "source": [
    "Get batter tables for all games 2016-2021"
   ]
  },
  {
   "cell_type": "code",
   "execution_count": 21,
   "metadata": {},
   "outputs": [
    {
     "name": "stdout",
     "output_type": "stream",
     "text": [
      "2019 108\n",
      "2019 109\n",
      "2019 110\n",
      "2019 111\n",
      "2019 112\n",
      "2019 113\n",
      "2019 114\n",
      "2019 115\n",
      "2019 116\n",
      "2019 117\n",
      "2019 118\n",
      "2019 119\n",
      "2019 120\n",
      "2019 121\n",
      "2019 133\n",
      "2019 134\n",
      "2019 135\n",
      "2019 136\n",
      "2019 137\n",
      "2019 138\n",
      "2019 139\n",
      "2019 140\n",
      "2019 141\n",
      "2019 142\n",
      "2019 143\n",
      "2019 144\n",
      "2019 145\n",
      "2019 146\n",
      "2019 147\n",
      "2019 158\n",
      "2020 108\n",
      "2020 109\n",
      "2020 110\n",
      "2020 111\n",
      "2020 112\n",
      "2020 113\n",
      "2020 114\n",
      "2020 115\n",
      "2020 116\n",
      "2020 117\n",
      "2020 118\n",
      "2020 119\n",
      "2020 120\n",
      "2020 121\n"
     ]
    },
    {
     "ename": "ValueError",
     "evalue": "could not convert string to float: '-.--'",
     "output_type": "error",
     "traceback": [
      "\u001b[1;31m---------------------------------------------------------------------------\u001b[0m",
      "\u001b[1;31mValueError\u001b[0m                                Traceback (most recent call last)",
      "\u001b[1;32mc:\\Visual_Studio\\Baseball Project\\Beat-the-Streak-Project\\mlb_data.ipynb Cell 12'\u001b[0m in \u001b[0;36m<module>\u001b[1;34m\u001b[0m\n\u001b[0;32m     <a href='vscode-notebook-cell:/c%3A/Visual_Studio/Baseball%20Project/Beat-the-Streak-Project/mlb_data.ipynb#ch0000010?line=21'>22</a>\u001b[0m opp_sp_name \u001b[39m=\u001b[39m boxscore[opp_status][\u001b[39m'\u001b[39m\u001b[39mplayers\u001b[39m\u001b[39m'\u001b[39m][\u001b[39mf\u001b[39m\u001b[39m'\u001b[39m\u001b[39mID\u001b[39m\u001b[39m{\u001b[39;00mopp_sp_id\u001b[39m}\u001b[39;00m\u001b[39m'\u001b[39m][\u001b[39m'\u001b[39m\u001b[39mperson\u001b[39m\u001b[39m'\u001b[39m][\u001b[39m'\u001b[39m\u001b[39mfullName\u001b[39m\u001b[39m'\u001b[39m]\n\u001b[0;32m     <a href='vscode-notebook-cell:/c%3A/Visual_Studio/Baseball%20Project/Beat-the-Streak-Project/mlb_data.ipynb#ch0000010?line=22'>23</a>\u001b[0m \u001b[39mif\u001b[39;00m opp_sp_ab \u001b[39m>\u001b[39m \u001b[39m0\u001b[39m:\n\u001b[1;32m---> <a href='vscode-notebook-cell:/c%3A/Visual_Studio/Baseball%20Project/Beat-the-Streak-Project/mlb_data.ipynb#ch0000010?line=23'>24</a>\u001b[0m     opp_sp_info \u001b[39m=\u001b[39m [opp_sp_id,opp_sp_name,\u001b[39mfloat\u001b[39;49m(opp_sp[\u001b[39m'\u001b[39;49m\u001b[39mera\u001b[39;49m\u001b[39m'\u001b[39;49m]),\u001b[39mround\u001b[39m(opp_sp_hits\u001b[39m/\u001b[39mopp_sp_ab, \u001b[39m3\u001b[39m)]\n\u001b[0;32m     <a href='vscode-notebook-cell:/c%3A/Visual_Studio/Baseball%20Project/Beat-the-Streak-Project/mlb_data.ipynb#ch0000010?line=24'>25</a>\u001b[0m \u001b[39melse\u001b[39;00m:\n\u001b[0;32m     <a href='vscode-notebook-cell:/c%3A/Visual_Studio/Baseball%20Project/Beat-the-Streak-Project/mlb_data.ipynb#ch0000010?line=25'>26</a>\u001b[0m     opp_sp_info \u001b[39m=\u001b[39m [opp_sp_id,opp_sp_name,\u001b[39mfloat\u001b[39m(opp_sp[\u001b[39m'\u001b[39m\u001b[39mera\u001b[39m\u001b[39m'\u001b[39m]),\u001b[39m0\u001b[39m]\n",
      "\u001b[1;31mValueError\u001b[0m: could not convert string to float: '-.--'"
     ]
    }
   ],
   "source": [
    "statsapi_master = pd.read_csv('data\\\\master\\\\statsapi_teams.csv')\n",
    "for season in [2019,2020,2021]:\n",
    "    for team in statsapi_master['statsapi_id']:\n",
    "        batting_df_list = []\n",
    "        team_schedule = pd.read_csv(f'data\\\\statsapi_season_data\\\\{season}\\\\{team}.csv')\n",
    "        for game in team_schedule['game_id']:\n",
    "            boxscore = statsapi.boxscore_data(game)\n",
    "\n",
    "            # determine if team is home or away\n",
    "            if team == boxscore['teamInfo']['home']['id']:\n",
    "                team_status = 'home'\n",
    "                opp_status = 'away'\n",
    "            else:\n",
    "                team_status = 'away'\n",
    "                opp_status = 'home'\n",
    "\n",
    "            # get opponent starting pitcher stats\n",
    "            opp_sp = boxscore[f'{opp_status}Pitchers'][1]\n",
    "            opp_sp_id = opp_sp['personId']\n",
    "            opp_sp_hits = boxscore[opp_status]['players'][f'ID{opp_sp_id}']['seasonStats']['pitching']['hits']\n",
    "            opp_sp_ab = boxscore[opp_status]['players'][f'ID{opp_sp_id}']['seasonStats']['pitching']['atBats']\n",
    "            opp_sp_name = boxscore[opp_status]['players'][f'ID{opp_sp_id}']['person']['fullName']\n",
    "            if opp_sp_ab > 0:\n",
    "                opp_sp_info = [opp_sp_id,opp_sp_name,float(opp_sp['era']),round(opp_sp_hits/opp_sp_ab, 3)]\n",
    "            else:\n",
    "                opp_sp_info = [opp_sp_id,opp_sp_name,float(opp_sp['era']),0]\n",
    "\n",
    "            # get team batting order and stats\n",
    "            batting_order = boxscore[team_status]['battingOrder']\n",
    "            for batter in batting_order:\n",
    "                batter_name = boxscore[team_status]['players'][f'ID{batter}']['person']['fullName']\n",
    "                batter_spot = int(boxscore[team_status]['players'][f'ID{batter}']['battingOrder'][0])\n",
    "                game_info = boxscore[team_status]['players'][f'ID{batter}']['stats']['batting']\n",
    "                season_avg = float(boxscore[team_status]['players'][f'ID{batter}']['seasonStats']['batting']['avg'])\n",
    "\n",
    "                batter_stats = [batter,batter_name,game_info['hits'],game_info['atBats']+game_info['baseOnBalls'],batter_spot,season_avg]\n",
    "                batter_stats =  batter_stats + opp_sp_info\n",
    "                batting_df_list.append(batter_stats)\n",
    "\n",
    "        # tranform to dataframe and save\n",
    "        col_list = ['batterID','batterName','Hits','AB','battingSpot','Avg','pitcherID','pitcherName','pitcherERA','pitcherAvg']\n",
    "        batting_df = pd.DataFrame(batting_df_list, columns=col_list)\n",
    "        batting_df.to_csv(f'data\\\\statsapi_game_data\\\\{season}\\\\{team}.csv', index=False)\n",
    "        print(season, team)"
   ]
  }
 ],
 "metadata": {
  "interpreter": {
   "hash": "247ab06e135bb35fa78c5eff31b2a9a0050dcb5fb773c2631d2a29ac689eeccb"
  },
  "kernelspec": {
   "display_name": "Python 3.9.1 64-bit",
   "language": "python",
   "name": "python3"
  },
  "language_info": {
   "codemirror_mode": {
    "name": "ipython",
    "version": 3
   },
   "file_extension": ".py",
   "mimetype": "text/x-python",
   "name": "python",
   "nbconvert_exporter": "python",
   "pygments_lexer": "ipython3",
   "version": "3.9.1"
  },
  "orig_nbformat": 4
 },
 "nbformat": 4,
 "nbformat_minor": 2
}
