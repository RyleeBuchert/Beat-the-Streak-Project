{
 "cells": [
  {
   "cell_type": "markdown",
   "metadata": {},
   "source": [
    "# ML-5333 Project 2 - MLB Data Collection"
   ]
  },
  {
   "cell_type": "code",
   "execution_count": 1,
   "metadata": {},
   "outputs": [],
   "source": [
    "import pandas as pd\n",
    "import numpy as np\n",
    "import baseball_scraper\n",
    "import pybaseball\n",
    "import statsapi\n",
    "import mlbgame"
   ]
  },
  {
   "cell_type": "markdown",
   "metadata": {},
   "source": [
    "Get masterfile for statsapi team name, code, etc."
   ]
  },
  {
   "cell_type": "code",
   "execution_count": 11,
   "metadata": {},
   "outputs": [],
   "source": [
    "with open('data\\\\master\\\\team_names.txt', 'r') as file:\n",
    "    team_list = [x.replace('\\n','') for x in file.readlines()]\n",
    "team_df = []\n",
    "for team in team_list:\n",
    "    team_df.append(statsapi.lookup_team(team)[0])\n",
    "team_df = pd.DataFrame.from_dict(team_df)\n",
    "team_df.columns = ['statsapi_id','name','team_code','file_code','team_name','loc_name','short_name']\n",
    "team_df = team_df.sort_values(by=['statsapi_id'])\n",
    "team_df = team_df.reset_index(drop=True)\n",
    "team_df.to_csv('data\\\\master\\\\statsapi_teams.csv', index=False)"
   ]
  },
  {
   "cell_type": "markdown",
   "metadata": {},
   "source": [
    "Function to get schedule dataframe for team in specified season"
   ]
  },
  {
   "cell_type": "code",
   "execution_count": 6,
   "metadata": {},
   "outputs": [],
   "source": [
    "def get_team_game_list(team_code, season):\n",
    "\n",
    "    date_dict = {\n",
    "        2016: {'start': '04/03/2016', 'end': '10/02/2016'},\n",
    "        2017: {'start': '04/02/2017', 'end': '10/01/2017'},\n",
    "        2018: {'start': '03/28/2018', 'end': '09/30/2018'},\n",
    "        2019: {'start': '03/27/2019', 'end': '09/29/2019'},\n",
    "        2020: {'start': '07/23/2020', 'end': '09/27/2020'},\n",
    "        2021: {'start': '04/01/2021', 'end': '10/03/2021'}\n",
    "    }\n",
    "\n",
    "    game_list = statsapi.schedule(start_date=date_dict[season]['start'],end_date=date_dict[season]['end'],team=team_code)\n",
    "\n",
    "    schedule_df_list = []\n",
    "    for game in game_list:\n",
    "        if game['status'] in ['Final', 'Completed Early: Rain']:\n",
    "            if team_code == game['home_id']:\n",
    "                team_status = 'Home'\n",
    "                opp_status = ('away_name', 'away_id')\n",
    "                if game['home_score'] > game['away_score']:\n",
    "                    game_result = 'W'\n",
    "                else:\n",
    "                    game_result = 'L'\n",
    "            else:\n",
    "                team_status = 'Away'\n",
    "                opp_status = ('home_name', 'home_id')\n",
    "                if game['away_score'] > game['home_score']:\n",
    "                    game_result = 'W'\n",
    "                else:\n",
    "                    game_result = 'L'\n",
    "            schedule_df_list.append([game['game_id'],team_status,game[opp_status[0]],game[opp_status[1]],game_result])\n",
    "    col_list = ['game_id','home/away','opp_name','opp_code','result']\n",
    "    return pd.DataFrame(schedule_df_list, columns=col_list)"
   ]
  },
  {
   "cell_type": "markdown",
   "metadata": {},
   "source": [
    "Get schedule dictionary for 2016-2021 seasons and save"
   ]
  },
  {
   "cell_type": "code",
   "execution_count": 7,
   "metadata": {},
   "outputs": [],
   "source": [
    "schedule_dict = {}\n",
    "season_list = [2016,2017,2018,2019,2020,2021]\n",
    "for season in season_list:\n",
    "    schedule_dict.update({season: {}})\n",
    "    for team in team_df['statsapi_id']:\n",
    "        schedule_dict[season].update({team: get_team_game_list(team, season)})\n",
    "for season in season_list:\n",
    "    for team in team_df['statsapi_id']:\n",
    "        schedule_dict[season][team].to_csv(f'data\\\\statsapi_season_data\\\\{season}\\\\{team}.csv')"
   ]
  }
 ],
 "metadata": {
  "interpreter": {
   "hash": "247ab06e135bb35fa78c5eff31b2a9a0050dcb5fb773c2631d2a29ac689eeccb"
  },
  "kernelspec": {
   "display_name": "Python 3.9.1 64-bit",
   "language": "python",
   "name": "python3"
  },
  "language_info": {
   "codemirror_mode": {
    "name": "ipython",
    "version": 3
   },
   "file_extension": ".py",
   "mimetype": "text/x-python",
   "name": "python",
   "nbconvert_exporter": "python",
   "pygments_lexer": "ipython3",
   "version": "3.9.10"
  },
  "orig_nbformat": 4
 },
 "nbformat": 4,
 "nbformat_minor": 2
}
