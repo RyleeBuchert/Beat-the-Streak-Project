{
 "cells": [
  {
   "cell_type": "markdown",
   "metadata": {},
   "source": [
    "# ML-5333 Project 2 - MLB Data Collection"
   ]
  },
  {
   "cell_type": "code",
   "execution_count": 16,
   "metadata": {},
   "outputs": [],
   "source": [
    "import pandas as pd\n",
    "import numpy as np\n",
    "import baseball_scraper\n",
    "import pybaseball\n",
    "import statsapi\n",
    "import mlbgame"
   ]
  },
  {
   "cell_type": "code",
   "execution_count": 56,
   "metadata": {},
   "outputs": [],
   "source": [
    "with open('data\\\\team_names.txt', 'r') as file:\n",
    "    team_list = [x.replace('\\n','') for x in file.readlines()]\n",
    "team_df = []\n",
    "for team in team_list:\n",
    "    team_df.append(statsapi.lookup_team(team)[0])\n",
    "team_df = pd.DataFrame.from_dict(team_df)\n",
    "team_df.columns = ['statsapi_id','name','team_code','file_code','team_name','loc_name','short_name']"
   ]
  },
  {
   "cell_type": "code",
   "execution_count": 57,
   "metadata": {},
   "outputs": [
    {
     "data": {
      "text/html": [
       "<div>\n",
       "<style scoped>\n",
       "    .dataframe tbody tr th:only-of-type {\n",
       "        vertical-align: middle;\n",
       "    }\n",
       "\n",
       "    .dataframe tbody tr th {\n",
       "        vertical-align: top;\n",
       "    }\n",
       "\n",
       "    .dataframe thead th {\n",
       "        text-align: right;\n",
       "    }\n",
       "</style>\n",
       "<table border=\"1\" class=\"dataframe\">\n",
       "  <thead>\n",
       "    <tr style=\"text-align: right;\">\n",
       "      <th></th>\n",
       "      <th>statsapi_id</th>\n",
       "      <th>name</th>\n",
       "      <th>team_code</th>\n",
       "      <th>file_code</th>\n",
       "      <th>team_name</th>\n",
       "      <th>loc_name</th>\n",
       "      <th>short_name</th>\n",
       "    </tr>\n",
       "  </thead>\n",
       "  <tbody>\n",
       "    <tr>\n",
       "      <th>0</th>\n",
       "      <td>144</td>\n",
       "      <td>Atlanta Braves</td>\n",
       "      <td>atl</td>\n",
       "      <td>atl</td>\n",
       "      <td>Braves</td>\n",
       "      <td>Atlanta</td>\n",
       "      <td>Atlanta</td>\n",
       "    </tr>\n",
       "    <tr>\n",
       "      <th>1</th>\n",
       "      <td>146</td>\n",
       "      <td>Miami Marlins</td>\n",
       "      <td>mia</td>\n",
       "      <td>mia</td>\n",
       "      <td>Marlins</td>\n",
       "      <td>Miami</td>\n",
       "      <td>Miami</td>\n",
       "    </tr>\n",
       "    <tr>\n",
       "      <th>2</th>\n",
       "      <td>121</td>\n",
       "      <td>New York Mets</td>\n",
       "      <td>nyn</td>\n",
       "      <td>nym</td>\n",
       "      <td>Mets</td>\n",
       "      <td>Flushing</td>\n",
       "      <td>NY Mets</td>\n",
       "    </tr>\n",
       "    <tr>\n",
       "      <th>3</th>\n",
       "      <td>143</td>\n",
       "      <td>Philadelphia Phillies</td>\n",
       "      <td>phi</td>\n",
       "      <td>phi</td>\n",
       "      <td>Phillies</td>\n",
       "      <td>Philadelphia</td>\n",
       "      <td>Philadelphia</td>\n",
       "    </tr>\n",
       "    <tr>\n",
       "      <th>4</th>\n",
       "      <td>120</td>\n",
       "      <td>Washington Nationals</td>\n",
       "      <td>was</td>\n",
       "      <td>was</td>\n",
       "      <td>Nationals</td>\n",
       "      <td>Washington</td>\n",
       "      <td>Washington</td>\n",
       "    </tr>\n",
       "  </tbody>\n",
       "</table>\n",
       "</div>"
      ],
      "text/plain": [
       "   statsapi_id                   name team_code file_code  team_name  \\\n",
       "0          144         Atlanta Braves       atl       atl     Braves   \n",
       "1          146          Miami Marlins       mia       mia    Marlins   \n",
       "2          121          New York Mets       nyn       nym       Mets   \n",
       "3          143  Philadelphia Phillies       phi       phi   Phillies   \n",
       "4          120   Washington Nationals       was       was  Nationals   \n",
       "\n",
       "       loc_name    short_name  \n",
       "0       Atlanta       Atlanta  \n",
       "1         Miami         Miami  \n",
       "2      Flushing       NY Mets  \n",
       "3  Philadelphia  Philadelphia  \n",
       "4    Washington    Washington  "
      ]
     },
     "execution_count": 57,
     "metadata": {},
     "output_type": "execute_result"
    }
   ],
   "source": [
    "team_df.head()"
   ]
  }
 ],
 "metadata": {
  "interpreter": {
   "hash": "247ab06e135bb35fa78c5eff31b2a9a0050dcb5fb773c2631d2a29ac689eeccb"
  },
  "kernelspec": {
   "display_name": "Python 3.9.1 64-bit",
   "language": "python",
   "name": "python3"
  },
  "language_info": {
   "codemirror_mode": {
    "name": "ipython",
    "version": 3
   },
   "file_extension": ".py",
   "mimetype": "text/x-python",
   "name": "python",
   "nbconvert_exporter": "python",
   "pygments_lexer": "ipython3",
   "version": "3.9.1"
  },
  "orig_nbformat": 4
 },
 "nbformat": 4,
 "nbformat_minor": 2
}
